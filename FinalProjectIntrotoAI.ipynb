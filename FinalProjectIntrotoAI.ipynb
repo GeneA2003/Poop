{
  "nbformat": 4,
  "nbformat_minor": 0,
  "metadata": {
    "colab": {
      "provenance": [],
      "gpuType": "T4",
      "toc_visible": true,
      "authorship_tag": "ABX9TyOenHjFtdP8CvfyX1Mz4JQX",
      "include_colab_link": true
    },
    "kernelspec": {
      "name": "python3",
      "display_name": "Python 3"
    },
    "language_info": {
      "name": "python"
    },
    "accelerator": "GPU"
  },
  "cells": [
    {
      "cell_type": "markdown",
      "metadata": {
        "id": "view-in-github",
        "colab_type": "text"
      },
      "source": [
        "<a href=\"https://colab.research.google.com/github/GeneA2003/Poop/blob/main/FinalProjectIntrotoAI.ipynb\" target=\"_parent\"><img src=\"https://colab.research.google.com/assets/colab-badge.svg\" alt=\"Open In Colab\"/></a>"
      ]
    },
    {
      "cell_type": "markdown",
      "source": [
        "\n",
        "\n",
        "```\n",
        "# This is formatted as code\n",
        "```\n",
        "\n",
        "Perceptron"
      ],
      "metadata": {
        "id": "ZbqNNebWfGvl"
      }
    },
    {
      "cell_type": "markdown",
      "source": [
        "imports"
      ],
      "metadata": {
        "id": "Z_F_z0KhYA2h"
      }
    },
    {
      "cell_type": "code",
      "source": [
        "import numpy as np\n",
        "\n",
        "from data import load_data\n",
        "\n",
        "import random\n",
        "\n"
      ],
      "metadata": {
        "id": "41k25YIl0KeP"
      },
      "execution_count": null,
      "outputs": []
    },
    {
      "cell_type": "markdown",
      "source": [
        "Hyperparamaeters"
      ],
      "metadata": {
        "id": "uO9iv-yx0czj"
      }
    },
    {
      "cell_type": "code",
      "source": [
        "DIGIT_UNROLLED_FEATURES = 28 * 28\n",
        "\n",
        "FACE"
      ],
      "metadata": {
        "id": "V_mefgZX0evF"
      },
      "execution_count": null,
      "outputs": []
    },
    {
      "cell_type": "markdown",
      "source": [
        "# New Section"
      ],
      "metadata": {
        "id": "tXUYDvIr02UG"
      }
    }
  ]
}